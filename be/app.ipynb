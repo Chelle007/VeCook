{
 "cells": [
  {
   "cell_type": "code",
   "execution_count": 1,
   "metadata": {},
   "outputs": [
    {
     "name": "stdout",
     "output_type": "stream",
     "text": [
      "Requirement already satisfied: flask in e:\\documents\\coding\\hackathon\\vecook\\be\\venv\\lib\\site-packages (from -r requirements.txt (line 1)) (3.1.0)\n",
      "Requirement already satisfied: openai==0.28 in e:\\documents\\coding\\hackathon\\vecook\\be\\venv\\lib\\site-packages (from -r requirements.txt (line 2)) (0.28.0)\n",
      "Requirement already satisfied: python-dotenv in e:\\documents\\coding\\hackathon\\vecook\\be\\venv\\lib\\site-packages (from -r requirements.txt (line 3)) (1.0.1)\n",
      "Requirement already satisfied: flask_cors in e:\\documents\\coding\\hackathon\\vecook\\be\\venv\\lib\\site-packages (from -r requirements.txt (line 4)) (5.0.0)\n",
      "Requirement already satisfied: requests>=2.20 in e:\\documents\\coding\\hackathon\\vecook\\be\\venv\\lib\\site-packages (from openai==0.28->-r requirements.txt (line 2)) (2.32.3)\n",
      "Requirement already satisfied: tqdm in e:\\documents\\coding\\hackathon\\vecook\\be\\venv\\lib\\site-packages (from openai==0.28->-r requirements.txt (line 2)) (4.67.1)\n",
      "Requirement already satisfied: aiohttp in e:\\documents\\coding\\hackathon\\vecook\\be\\venv\\lib\\site-packages (from openai==0.28->-r requirements.txt (line 2)) (3.11.12)\n",
      "Requirement already satisfied: Werkzeug>=3.1 in e:\\documents\\coding\\hackathon\\vecook\\be\\venv\\lib\\site-packages (from flask->-r requirements.txt (line 1)) (3.1.3)\n",
      "Requirement already satisfied: Jinja2>=3.1.2 in e:\\documents\\coding\\hackathon\\vecook\\be\\venv\\lib\\site-packages (from flask->-r requirements.txt (line 1)) (3.1.5)\n",
      "Requirement already satisfied: itsdangerous>=2.2 in e:\\documents\\coding\\hackathon\\vecook\\be\\venv\\lib\\site-packages (from flask->-r requirements.txt (line 1)) (2.2.0)\n",
      "Requirement already satisfied: click>=8.1.3 in e:\\documents\\coding\\hackathon\\vecook\\be\\venv\\lib\\site-packages (from flask->-r requirements.txt (line 1)) (8.1.8)\n",
      "Requirement already satisfied: blinker>=1.9 in e:\\documents\\coding\\hackathon\\vecook\\be\\venv\\lib\\site-packages (from flask->-r requirements.txt (line 1)) (1.9.0)\n",
      "Requirement already satisfied: colorama in e:\\documents\\coding\\hackathon\\vecook\\be\\venv\\lib\\site-packages (from click>=8.1.3->flask->-r requirements.txt (line 1)) (0.4.6)\n",
      "Requirement already satisfied: MarkupSafe>=2.0 in e:\\documents\\coding\\hackathon\\vecook\\be\\venv\\lib\\site-packages (from Jinja2>=3.1.2->flask->-r requirements.txt (line 1)) (3.0.2)\n",
      "Requirement already satisfied: charset-normalizer<4,>=2 in e:\\documents\\coding\\hackathon\\vecook\\be\\venv\\lib\\site-packages (from requests>=2.20->openai==0.28->-r requirements.txt (line 2)) (3.4.1)\n",
      "Requirement already satisfied: idna<4,>=2.5 in e:\\documents\\coding\\hackathon\\vecook\\be\\venv\\lib\\site-packages (from requests>=2.20->openai==0.28->-r requirements.txt (line 2)) (3.10)\n",
      "Requirement already satisfied: urllib3<3,>=1.21.1 in e:\\documents\\coding\\hackathon\\vecook\\be\\venv\\lib\\site-packages (from requests>=2.20->openai==0.28->-r requirements.txt (line 2)) (2.3.0)\n",
      "Requirement already satisfied: certifi>=2017.4.17 in e:\\documents\\coding\\hackathon\\vecook\\be\\venv\\lib\\site-packages (from requests>=2.20->openai==0.28->-r requirements.txt (line 2)) (2025.1.31)\n",
      "Requirement already satisfied: aiohappyeyeballs>=2.3.0 in e:\\documents\\coding\\hackathon\\vecook\\be\\venv\\lib\\site-packages (from aiohttp->openai==0.28->-r requirements.txt (line 2)) (2.4.6)\n",
      "Requirement already satisfied: aiosignal>=1.1.2 in e:\\documents\\coding\\hackathon\\vecook\\be\\venv\\lib\\site-packages (from aiohttp->openai==0.28->-r requirements.txt (line 2)) (1.3.2)\n",
      "Requirement already satisfied: attrs>=17.3.0 in e:\\documents\\coding\\hackathon\\vecook\\be\\venv\\lib\\site-packages (from aiohttp->openai==0.28->-r requirements.txt (line 2)) (25.1.0)\n",
      "Requirement already satisfied: frozenlist>=1.1.1 in e:\\documents\\coding\\hackathon\\vecook\\be\\venv\\lib\\site-packages (from aiohttp->openai==0.28->-r requirements.txt (line 2)) (1.5.0)\n",
      "Requirement already satisfied: multidict<7.0,>=4.5 in e:\\documents\\coding\\hackathon\\vecook\\be\\venv\\lib\\site-packages (from aiohttp->openai==0.28->-r requirements.txt (line 2)) (6.1.0)\n",
      "Requirement already satisfied: propcache>=0.2.0 in e:\\documents\\coding\\hackathon\\vecook\\be\\venv\\lib\\site-packages (from aiohttp->openai==0.28->-r requirements.txt (line 2)) (0.2.1)\n",
      "Requirement already satisfied: yarl<2.0,>=1.17.0 in e:\\documents\\coding\\hackathon\\vecook\\be\\venv\\lib\\site-packages (from aiohttp->openai==0.28->-r requirements.txt (line 2)) (1.18.3)\n",
      "Note: you may need to restart the kernel to use updated packages.\n"
     ]
    },
    {
     "name": "stderr",
     "output_type": "stream",
     "text": [
      "\n",
      "[notice] A new release of pip is available: 23.2.1 -> 25.0.1\n",
      "[notice] To update, run: python.exe -m pip install --upgrade pip\n"
     ]
    }
   ],
   "source": [
    "%pip install -r requirements.txt"
   ]
  },
  {
   "cell_type": "code",
   "execution_count": 6,
   "metadata": {},
   "outputs": [],
   "source": [
    "from flask import Flask, jsonify, request\n",
    "from flask_cors import CORS\n",
    "import openai\n",
    "import os\n",
    "from dotenv import load_dotenv\n",
    "import json"
   ]
  },
  {
   "cell_type": "code",
   "execution_count": 7,
   "metadata": {},
   "outputs": [],
   "source": [
    "load_dotenv()\n",
    "\n",
    "OPENAI_API_KEY = os.getenv(\"OPENAI_API_KEY\")\n",
    "\n",
    "RECIPE = {\n",
    "    \"title\": \"Whole Wheat Blueberry Brownies\",\n",
    "    \"ingredients\": [\n",
    "        \"flour\", \"sugar\", \"cocoa powder\", \"eggs\", \"milk\", \"butter\", \"baking powder\"\n",
    "    ],\n",
    "    \"steps\": [\n",
    "        \"Combine dry ingredients in one bowl, and wet ingredients in another bowl except berries.\",\n",
    "        \"Heat the oven to 350 degrees and spray an 8 x 8 x 2-inch pan with cooking spray.\",\n",
    "        \"Combine wet and dry ingredients until smooth, then fold in berries.\",\n",
    "        \"Pour into baking dish and bake for 20 25 minutes until a toothpick inserted in the center came out clean.\"\n",
    "    ]\n",
    "}\n",
    "\n",
    "user_state = {\n",
    "    \"current_step\": 0,\n",
    "    \"mistakes\": []\n",
    "}\n",
    "\n",
    "user_history = {}"
   ]
  },
  {
   "cell_type": "code",
   "execution_count": 11,
   "metadata": {},
   "outputs": [],
   "source": [
    "def answer_question(user_id, user_message):\n",
    "    \"\"\"Answer the user's question based on the recipe or general knowledge while keeping conversation history.\"\"\"\n",
    "    if user_id not in user_history:\n",
    "        user_history[user_id] = [\n",
    "            {\"role\": \"system\", \"content\": f\"\"\"\n",
    "                You are a professional chef specializing in answering recipe-related questions.\n",
    "                Here is the recipe data:\n",
    "                {json.dumps(RECIPE, indent=2)}\n",
    "                \n",
    "                User's current step: {RECIPE[\"steps\"][user_state['current_step']]}\n",
    "\n",
    "                Answer questions based ONLY ON THESE RECIPE and general cooking knowledge. Shorten answers to at most 2 sentences.\n",
    "            \"\"\"}\n",
    "        ]\n",
    "\n",
    "    # Add user message to history\n",
    "    user_history[user_id].append({\"role\": \"user\", \"content\": user_message})\n",
    "\n",
    "    # Call OpenAI API with conversation history\n",
    "    response = openai.ChatCompletion.create(\n",
    "        model=\"gpt-4\",\n",
    "        api_key=OPENAI_API_KEY,\n",
    "        messages=user_history[user_id]\n",
    "    )\n",
    "\n",
    "    bot_response = response[\"choices\"][0][\"message\"][\"content\"].strip()\n",
    "\n",
    "    # Add AI response to history\n",
    "    user_history[user_id].append({\"role\": \"assistant\", \"content\": bot_response})\n",
    "\n",
    "    # Limit message history to last 10 messages to save tokens\n",
    "    user_history[user_id] = user_history[user_id][-10:]\n",
    "\n",
    "    return bot_response"
   ]
  },
  {
   "cell_type": "code",
   "execution_count": 14,
   "metadata": {},
   "outputs": [
    {
     "name": "stdout",
     "output_type": "stream",
     "text": [
      "You asked about what you are making right now.\n"
     ]
    }
   ],
   "source": [
    "print(answer_question(\"1\", \"What did I ask just now?\"))"
   ]
  }
 ],
 "metadata": {
  "kernelspec": {
   "display_name": "venv",
   "language": "python",
   "name": "python3"
  },
  "language_info": {
   "codemirror_mode": {
    "name": "ipython",
    "version": 3
   },
   "file_extension": ".py",
   "mimetype": "text/x-python",
   "name": "python",
   "nbconvert_exporter": "python",
   "pygments_lexer": "ipython3",
   "version": "3.12.0"
  }
 },
 "nbformat": 4,
 "nbformat_minor": 2
}
